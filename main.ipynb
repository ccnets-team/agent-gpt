{
 "cells": [
  {
   "cell_type": "code",
   "execution_count": null,
   "metadata": {},
   "outputs": [],
   "source": [
    "# main.ipynb train side\n",
    "\n",
    "from envs.unity_env import UnityEnv        # Interface for Unity environments\n",
    "from envs.gym_env import GymEnv            # Interface for OpenAI Gym environments\n",
    "from remote.gpt_trainer import GPTTrainer\n",
    "from remote.gpt_params import Hyperparameters, SageMakerParams\n",
    "\n",
    "trainer = GPTTrainer(env_simulator=UnityEnv)\n",
    "trainer.train(sagemaker_params=SageMakerParams(), hyperparameters=Hyperparameters())\n",
    "\n",
    "# equal to\n",
    "GPTTrainer.sagemaker_train(env_simulator=UnityEnv, sagemaker_params=SageMakerParams(), hyperparameters=Hyperparameters())"
   ]
  },
  {
   "cell_type": "code",
   "execution_count": null,
   "metadata": {},
   "outputs": [],
   "source": [
    "# main.ipynb server side\n",
    "from remote.agent_gpt import AgentGPT           # Client-side environment runner\n",
    "\n",
    "agent_gpt = AgentGPT(sagemaker_params = SageMakerParams())\n",
    "\n",
    "# the rest should work either option\n",
    "agent_gpt.set_input_seq_len(seq_len = 3)\n",
    "agent_gpt.set_model_performance(performance = 0.5)\n",
    "\n",
    "# agent_gpt.register(agent_ids = [\"junho\", \"bob\", \"joe\"])\n",
    "action1 = agent_gpt.select_action(agent_ids = [\"junho\", \"bob\", '1'], observations = [[1, 2, 3], [4, 5, 6], [7, 8, 9]])\n",
    "action2 = agent_gpt.select_action(agent_ids = [\"junho\", \"bob\", '1'], observations = [[1, 2, 3], [4, 5, 6], [7, 8, 9]])\n",
    "action3 = agent_gpt.select_action(agent_ids = [\"junho\", \"bob\", '1'], observations = [[1, 2, 3], [4, 5, 6], [7, 8, 9]])\n",
    "agent_gpt.delete_agents(agent_ids = [\"bob\"])\n",
    "\n",
    "num_left_agents = agent_gpt.delete_agents([\"junho\", \"bob\", '1'])\n",
    "\n",
    "agent_gpt.status()\n"
   ]
  },
  {
   "cell_type": "markdown",
   "metadata": {},
   "source": [
    "######################################################\n",
    "# Step 2: Run the EnvRunway to execute the trained model locally\n",
    "runner = RemoteRunner.run(\n",
    "    env_simulator=GymEnv,\n",
    "    model_path=output_path   # Path to the trained model\n",
    ")\n",
    "action = runner.select_action(agent_id=\"agent1\", observation=obs)\n",
    "action = runner.select_action(agent_id=[\"agent1\", \"agent2\"], observation=[obs1, obs2])"
   ]
  },
  {
   "cell_type": "code",
   "execution_count": 1,
   "metadata": {},
   "outputs": [
    {
     "name": "stdout",
     "output_type": "stream",
     "text": [
      "./\n",
      "    .gitignore\n",
      "    Dockerfile\n",
      "    main.ipynb\n",
      "    README.md\n",
      "    README_KOR.md\n",
      "    requirements.txt\n",
      "    envs/\n",
      "        custom_env.py\n",
      "        gym_env.py\n",
      "        unity_env.py\n",
      "        __init__.py\n",
      "    remote/\n",
      "        agent_gpt.py\n",
      "        agent_gpt_config.py\n",
      "        agent_host.py\n",
      "        env_host.py\n",
      "        gpt_trainer.py\n",
      "    utils/\n",
      "        data_converters.py\n",
      "        gym_space.py\n"
     ]
    }
   ],
   "source": [
    "import os\n",
    "\n",
    "def print_directory_tree(root, exclude_dirs):\n",
    "    for dirpath, dirnames, filenames in os.walk(root):\n",
    "        # Filter out the directories to exclude\n",
    "        dirnames[:] = [d for d in dirnames if d not in exclude_dirs]\n",
    "        level = dirpath.replace(root, '').count(os.sep)\n",
    "        indent = ' ' * 4 * level\n",
    "        print(f'{indent}{os.path.basename(dirpath)}/')\n",
    "        subindent = ' ' * 4 * (level + 1)\n",
    "        for f in filenames:\n",
    "            print(f'{subindent}{f}')\n",
    "\n",
    "# Set the root directory and the directories to exclude\n",
    "root_directory = '.'\n",
    "exclude_directories = {'.git', '__pycache__'}\n",
    "\n",
    "print_directory_tree(root_directory, exclude_directories)"
   ]
  }
 ],
 "metadata": {
  "kernelspec": {
   "display_name": "torch",
   "language": "python",
   "name": "python3"
  },
  "language_info": {
   "codemirror_mode": {
    "name": "ipython",
    "version": 3
   },
   "file_extension": ".py",
   "mimetype": "text/x-python",
   "name": "python",
   "nbconvert_exporter": "python",
   "pygments_lexer": "ipython3",
   "version": "3.9.20"
  }
 },
 "nbformat": 4,
 "nbformat_minor": 2
}
