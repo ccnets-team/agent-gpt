{
 "cells": [
  {
   "cell_type": "code",
   "execution_count": null,
   "metadata": {},
   "outputs": [],
   "source": [
    "from environments.unity_env import UnityEnv        # Interface for Unity environments\n",
    "from environments.gym_env import GymEnv            # Interface for OpenAI Gym environments\n",
    "from train.env_gateway import EnvGateway    # Server-side environment gateway\n",
    "from runtime.env_runway import EnvRunway           # Client-side environment runner\n",
    "from train.settings.sagemaker_config import SageMakerConfig\n",
    "from train.settings.one_click_params import OneClickHyperparameters\n",
    "\n",
    "env_id = \"new_palworld\"\n",
    "entry_point = \"c:/path/to/your/gym_env.py\"  # Path to the Gym environment file\n",
    "sage_config = SageMakerConfig()\n",
    "oneclick_params = OneClickHyperparameters()\n",
    "\n",
    "sage_config.output_path = \"s3://your-bucket/models/\" + env_id, + '/'\n",
    "\n",
    "GymEnv.register(\n",
    "    id=env_id,\n",
    "    entry_point=entry_point\n",
    ")\n",
    "\n",
    "EnvGateway.train(\n",
    "    env_type=GymEnv,\n",
    "    env_id=env_id,\n",
    "    sage_config = sage_config,\n",
    "    oneclick_params = oneclick_params\n",
    ")\n"
   ]
  },
  {
   "cell_type": "code",
   "execution_count": null,
   "metadata": {},
   "outputs": [],
   "source": [
    "######################################################\n",
    "# Step 2: Run the EnvRunway to execute the trained model locally\n",
    "EnvRunway.run(\n",
    "    env_type=GymEnv,\n",
    "    model_path=sage_config.output_path   # Path to the trained model\n",
    ")"
   ]
  }
 ],
 "metadata": {
  "kernelspec": {
   "display_name": "torch",
   "language": "python",
   "name": "python3"
  },
  "language_info": {
   "codemirror_mode": {
    "name": "ipython",
    "version": 3
   },
   "file_extension": ".py",
   "mimetype": "text/x-python",
   "name": "python",
   "nbconvert_exporter": "python",
   "pygments_lexer": "ipython3",
   "version": "3.9.20"
  }
 },
 "nbformat": 4,
 "nbformat_minor": 2
}
