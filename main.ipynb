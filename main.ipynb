{
 "cells": [
  {
   "cell_type": "code",
   "execution_count": null,
   "metadata": {},
   "outputs": [],
   "source": [
    "from environments.unity_env import UnityEnv        # Interface for Unity environments\n",
    "from environments.gym_env import GymEnv            # Interface for OpenAI Gym environments\n",
    "from remote.remote_trainer import RemoteTrainer\n",
    "from remote.remote_runner import RemoteRunner           # Client-side environment runner\n",
    "from remote.one_click_params import OneClickHyperparameters\n",
    "\n",
    "env_id = \"new_palworld\"\n",
    "entry_point = \"c:/path/to/your/gym_env.py\"  # Path to the Gym environment file\n",
    "one_click_params = OneClickHyperparameters()\n",
    "\n",
    "one_click_params.output_path = \"s3://your-bucket/models\"  # Path to save the model\n",
    "\n",
    "GymEnv.register(\n",
    "    id=env_id,\n",
    "    entry_point=entry_point\n",
    ")\n",
    "\n",
    "RemoteTrainer.train(\n",
    "    env_simulator=GymEnv,\n",
    "    env_id=env_id,\n",
    "    one_click_params = one_click_params\n",
    ")\n"
   ]
  },
  {
   "cell_type": "code",
   "execution_count": null,
   "metadata": {},
   "outputs": [],
   "source": [
    "######################################################\n",
    "# Step 2: Run the EnvRunway to execute the trained model locally\n",
    "runner: RemoteRunner = RemoteRunner.run(\n",
    "    env_simulator=GymEnv,\n",
    "    model_path=one_click_params.output_path   # Path to the trained model\n",
    ")\n",
    "actions = runner.register_agents(agent_ids=[\"agent1\", \"agent2\"], observations=[1, 2])\n"
   ]
  }
 ],
 "metadata": {
  "kernelspec": {
   "display_name": "torch",
   "language": "python",
   "name": "python3"
  },
  "language_info": {
   "codemirror_mode": {
    "name": "ipython",
    "version": 3
   },
   "file_extension": ".py",
   "mimetype": "text/x-python",
   "name": "python",
   "nbconvert_exporter": "python",
   "pygments_lexer": "ipython3",
   "version": "3.9.20"
  }
 },
 "nbformat": 4,
 "nbformat_minor": 2
}
