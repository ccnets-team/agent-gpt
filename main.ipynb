{
 "cells": [
  {
   "cell_type": "code",
   "execution_count": null,
   "metadata": {},
   "outputs": [],
   "source": [
    "from environments.unity_simulator import UnitySimulator        # Interface for Unity environments\n",
    "from environments.gym_simulator import GymSimulator            # Interface for OpenAI Gym environments\n",
    "from remote.gpt_trainer import AgentGPTTrainer\n",
    "from remote.agent_gpt import AgentGPT           # Client-side environment runner\n",
    "from remote.one_click_params import OneClickHyperparameters, SageMakerConfig\n",
    "\n",
    "remote_trainer = AgentGPTTrainer(env_simulator=UnitySimulator)\n",
    "estimator = remote_trainer.train(sage_config=SageMakerConfig(), one_click_params=OneClickHyperparameters())\n",
    "\n",
    "agent_gpt = AgentGPT(model_path = \"s3://your-bucket/models/your-model\")\n",
    "_ = agent_gpt.run(sage_config = SageMakerConfig()) # predictor is not needed for this example\n",
    "\n",
    "agent_gpt.set_input_seq_len(seq_len = 3)\n",
    "agent_gpt.set_model_performance(performance = 0.5)\n",
    "\n",
    "# agent_gpt.register(agent_ids = [\"junho\", \"bob\", \"joe\"])\n",
    "action1 = agent_gpt.select_action(agent_ids = [\"junho\", \"bob\", '1'], observations = [[1, 2, 3], [4, 5, 6], [7, 8, 9]])\n",
    "action2 = agent_gpt.select_action(agent_ids = [\"junho\", \"bob\", '1'], observations = [[1, 2, 3], [4, 5, 6], [7, 8, 9]])\n",
    "action3 = agent_gpt.select_action(agent_ids = [\"junho\", \"bob\", '1'], observations = [[1, 2, 3], [4, 5, 6], [7, 8, 9]])\n",
    "agent_gpt.delete_agents(agent_ids = [\"bob\"])\n",
    "\n",
    "num_left_agents = agent_gpt.delete_agents([\"junho\", \"bob\", '1'])\n",
    "\n",
    "agent_gpt.status()\n"
   ]
  },
  {
   "cell_type": "markdown",
   "metadata": {},
   "source": [
    "######################################################\n",
    "# Step 2: Run the EnvRunway to execute the trained model locally\n",
    "runner = RemoteRunner.run(\n",
    "    env_simulator=GymEnv,\n",
    "    model_path=output_path   # Path to the trained model\n",
    ")\n",
    "action = runner.select_action(agent_id=\"agent1\", observation=obs)\n",
    "action = runner.select_action(agent_id=[\"agent1\", \"agent2\"], observation=[obs1, obs2])"
   ]
  }
 ],
 "metadata": {
  "kernelspec": {
   "display_name": "client-test",
   "language": "python",
   "name": "python3"
  },
  "language_info": {
   "codemirror_mode": {
    "name": "ipython",
    "version": 3
   },
   "file_extension": ".py",
   "mimetype": "text/x-python",
   "name": "python",
   "nbconvert_exporter": "python",
   "pygments_lexer": "ipython3",
   "version": "3.9.20"
  }
 },
 "nbformat": 4,
 "nbformat_minor": 2
}
