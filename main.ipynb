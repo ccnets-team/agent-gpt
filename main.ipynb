{
 "cells": [
  {
   "cell_type": "code",
   "execution_count": null,
   "metadata": {},
   "outputs": [],
   "source": [
    "from src.env_host.cloud.cloud_launcher import CloudEnvLauncher \n",
    "from src.env_host.launcher import EnvLauncher\n",
    "from src.config.aws_config import EC2Config\n",
    " \n",
    "env_id = \"3DBallHard\"\n",
    "# 1) Acquire a launcher object\n",
    "cloud_env_launcher: CloudEnvLauncher = EnvLauncher.launch_on_cloud(env_simulator=\"unity\", env_id=env_id, env_file_path=\"../unity_environments/3DBallHard\", \n",
    "                                                                   global_image_name=\"cloud_\" + env_id.lower(), ecr_registry=\"123456789012.dkr.ecr.us-east-1.amazonaws.com\",\n",
    "                                                                   ec2_config=EC2Config(instance_type=\"g5.xlarge\", ensure_ami_config=True))"
   ]
  },
  {
   "cell_type": "code",
   "execution_count": null,
   "metadata": {},
   "outputs": [],
   "source": [
    "\n",
    "# 2) Generate or prepare a Docker folder\n",
    "dockerfile_path = cloud_env_launcher.generate_dockerfile(copy_env_file_if_outside = True)\n"
   ]
  },
  {
   "cell_type": "code",
   "execution_count": null,
   "metadata": {},
   "outputs": [],
   "source": [
    "# 3) Build the Docker image from that folder\n",
    "cloud_env_launcher.build_docker_image(dockerfile_path=dockerfile_path)"
   ]
  },
  {
   "cell_type": "code",
   "execution_count": null,
   "metadata": {},
   "outputs": [],
   "source": [
    "\n",
    "# 4) Push the Docker image to a registry (e.g., ECR)\n",
    "cloud_env_launcher.push_docker_image(ensure_ecr_login=True, ensure_ecr_repo=True)"
   ]
  },
  {
   "cell_type": "code",
   "execution_count": null,
   "metadata": {},
   "outputs": [],
   "source": [
    "\n",
    "# 5) Launch an EC2 instance, passing user_data\n",
    "cloud_env_launcher.launch_ec2_instance()"
   ]
  },
  {
   "cell_type": "code",
   "execution_count": null,
   "metadata": {},
   "outputs": [],
   "source": [
    "# 6) Retrieve the endpoint\n",
    "env_endpoint = cloud_env_launcher.get_env_endpoint()\n",
    "# env_endpoint = \"http://ec2-3-235-11-111.compute-1.amazonaws.com\""
   ]
  },
  {
   "cell_type": "markdown",
   "metadata": {},
   "source": [
    "env_endpoint = EnvLauncher.launch_on_local_with_ip(env_simulator='unity', ip_address=\"\")"
   ]
  },
  {
   "cell_type": "markdown",
   "metadata": {},
   "source": [
    "env_endpoint = EnvLauncher.launch_on_local_with_url(env_simulator='unity', tunnel_name=\"ngrok\")"
   ]
  },
  {
   "cell_type": "code",
   "execution_count": null,
   "metadata": {},
   "outputs": [],
   "source": [
    "# main.ipynb train side\n",
    "from src.agent_gpt import AgentGPT\n",
    "from src.config.hyperparams import Hyperparameters\n",
    "from src.config.aws_config import SageMakerConfig\n",
    "role_arn = \"arn:aws:iam::123456789012:role/SageMakerExecutionRole\"\n",
    "image_uri = \"123456789012.dkr.ecr.us-east-1.amazonaws.com/agent-gpt-trainer:latest\"\n",
    "output_path=\"s3://agentgpt-test/\"\n",
    "sagemaker_config=SageMakerConfig(output_path = output_path, image_uri = image_uri, role_arn = role_arn)"
   ]
  },
  {
   "cell_type": "code",
   "execution_count": null,
   "metadata": {},
   "outputs": [],
   "source": [
    "sagemaker_config.model_data = \"s3://your_agentgpt/model.tar.gz\"\n",
    "AgentGPT.train_on_cloud(sagemaker_config, hyperparameters=Hyperparameters(env_id, env_endpoint))"
   ]
  },
  {
   "cell_type": "code",
   "execution_count": null,
   "metadata": {},
   "outputs": [],
   "source": [
    "agent_gpt = AgentGPT.run_on_cloud(sagemaker_config)"
   ]
  },
  {
   "cell_type": "code",
   "execution_count": null,
   "metadata": {},
   "outputs": [],
   "source": [
    "import numpy as np\n",
    "\n",
    "# ---------------------------------------------------------------------\n",
    "# 1) Test set_control_value / get_control_value\n",
    "# ---------------------------------------------------------------------\n",
    "agent_gpt.set_control_value(2.0)\n",
    "current_control = agent_gpt.get_control_value()\n",
    "print(f\"[TEST] control_value set to: {current_control}\")\n",
    "\n",
    "# ---------------------------------------------------------------------\n",
    "# 2) Test sample_observation / sample_action\n",
    "# ---------------------------------------------------------------------\n",
    "obs = agent_gpt.sample_observation()\n",
    "print(f\"[TEST] Sampled observation shape: {obs.shape}\")\n",
    "act = agent_gpt.sample_action()\n",
    "print(f\"[TEST] Sampled action: {act}\")\n",
    "\n",
    "# ---------------------------------------------------------------------\n",
    "# 3) Test select_action\n",
    "#    (Here we simulate 2 agents (IDs=0,1) each receiving the same obs)\n",
    "# ---------------------------------------------------------------------\n",
    "actions = agent_gpt.select_action(\n",
    "    agent_ids=[0, 1],\n",
    "    observations=[obs, obs],\n",
    ")\n",
    "print(f\"[TEST] Actions returned by select_action:\\n{actions}\")\n",
    "\n",
    "# ---------------------------------------------------------------------\n",
    "# 4) Test remove_agents\n",
    "#    We remove agent \"0\" from the system.\n",
    "# ---------------------------------------------------------------------\n",
    "agent_gpt.terminate_agents(np.array([0]))\n",
    "print(f\"[TEST] After removing agent 0, status:\\n{agent_gpt.status()}\")\n",
    "\n",
    "# ---------------------------------------------------------------------\n",
    "# 5) Test reset_agents\n",
    "#    Let's reset the entire agent registry (if you want to clear all).\n",
    "# ---------------------------------------------------------------------\n",
    "agent_gpt.reset_agents(5)  # or however many you want to reset\n",
    "print(f\"[TEST] After resetting, status:\\n{agent_gpt.status()}\")\n",
    "\n",
    "# ---------------------------------------------------------------------\n",
    "# 6) Final status check\n",
    "# ---------------------------------------------------------------------\n",
    "final_status = agent_gpt.status()\n",
    "print(f\"[TEST] Final Status:\\n{final_status}\")\n"
   ]
  }
 ],
 "metadata": {
  "kernelspec": {
   "display_name": "admin",
   "language": "python",
   "name": "python3"
  },
  "language_info": {
   "codemirror_mode": {
    "name": "ipython",
    "version": 3
   },
   "file_extension": ".py",
   "mimetype": "text/x-python",
   "name": "python",
   "nbconvert_exporter": "python",
   "pygments_lexer": "ipython3",
   "version": "3.9.20"
  }
 },
 "nbformat": 4,
 "nbformat_minor": 2
}
