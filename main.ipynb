{
 "cells": [
  {
   "cell_type": "code",
   "execution_count": null,
   "metadata": {},
   "outputs": [],
   "source": [
    "# main.ipynb train side\n",
    "from agent_gpt import AgentGPT\n",
    "from config.hyperparams import Hyperparameters\n",
    "from config.aws_config import SageMakerConfig\n",
    "role_arn = \"arn:aws:iam::123456789012:role/SageMakerExecutionRole\"\n",
    "image_uri = \"123456789012.dkr.ecr.us-east-1.amazonaws.com/agent-gpt-trainer:latest\"\n",
    "model_dir=\"s3://agentgpt-test/\"\n",
    "sagemaker_config=SageMakerConfig(model_dir = model_dir, trainer_uri = image_uri, role_arn = role_arn)"
   ]
  },
  {
   "cell_type": "code",
   "execution_count": 2,
   "metadata": {},
   "outputs": [],
   "source": [
    "from env_hosting.env_launcher import EnvLauncher\n",
    "env_launcher = EnvLauncher(env_simulator='gym')"
   ]
  },
  {
   "cell_type": "code",
   "execution_count": null,
   "metadata": {},
   "outputs": [],
   "source": [
    "env_launcher.host_with_url(env_url = None)"
   ]
  },
  {
   "cell_type": "code",
   "execution_count": null,
   "metadata": {},
   "outputs": [],
   "source": [
    "env_url = env_launcher.host_on_local(tunnel_type=\"localtunnel\")"
   ]
  },
  {
   "cell_type": "code",
   "execution_count": null,
   "metadata": {},
   "outputs": [],
   "source": [
    "from config.aws_config import EC2Config\n",
    "env_url = env_launcher.host_on_cloud(EC2Config())"
   ]
  },
  {
   "cell_type": "code",
   "execution_count": null,
   "metadata": {},
   "outputs": [],
   "source": [
    "sagemaker_config=SageMakerConfig(model_dir = model_dir, trainer_uri = image_uri, role_arn = role_arn)\n",
    "hyperparameters = Hyperparameters(env_id = 'Walker2d-v5', env_url = env_url)\n",
    "agent_gpt = AgentGPT()"
   ]
  },
  {
   "cell_type": "code",
   "execution_count": null,
   "metadata": {},
   "outputs": [],
   "source": [
    "agent_gpt.train_on_cloud(sagemaker_config, hyperparameters)"
   ]
  },
  {
   "cell_type": "code",
   "execution_count": null,
   "metadata": {},
   "outputs": [],
   "source": [
    "agent_gpt.act_on_cloud(sagemaker_config)"
   ]
  },
  {
   "cell_type": "code",
   "execution_count": null,
   "metadata": {},
   "outputs": [],
   "source": [
    "agent_gpt.select_action()"
   ]
  }
 ],
 "metadata": {
  "kernelspec": {
   "display_name": "admin",
   "language": "python",
   "name": "python3"
  },
  "language_info": {
   "codemirror_mode": {
    "name": "ipython",
    "version": 3
   },
   "file_extension": ".py",
   "mimetype": "text/x-python",
   "name": "python",
   "nbconvert_exporter": "python",
   "pygments_lexer": "ipython3",
   "version": "3.9.20"
  }
 },
 "nbformat": 4,
 "nbformat_minor": 2
}
