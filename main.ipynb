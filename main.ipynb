{
 "cells": [
  {
   "cell_type": "code",
   "execution_count": null,
   "metadata": {},
   "outputs": [],
   "source": [
    "# main.ipynb train side\n",
    "from remote.agent_gpt import AgentGPT\n",
    "from remote.gpt_trainer_config import Hyperparameters, SageMakerConfig\n",
    "\n",
    "trainer_api_uri = \"123456789012.dkr.ecr.us-east-1.amazonaws.com/agentgpt-trainer-test:latest\"\n",
    "model_dir=\"s3://agentgpt-client/\"\n",
    "role_arn = \"arn:aws:iam::123456789012:role/SageMakerExecutionRole\"\n",
    "env_id = '3DBallHard'\n",
    "\n",
    "sagemaker_config=SageMakerConfig(model_dir=model_dir, api_uri = trainer_api_uri, role_arn= role_arn)\n",
    "hyperparameters = Hyperparameters(env_id = env_id)"
   ]
  },
  {
   "cell_type": "code",
   "execution_count": null,
   "metadata": {},
   "outputs": [],
   "source": [
    "AgentGPT.train(sagemaker_config, hyperparameters, env_simulator='unity', use_ngrok = True)"
   ]
  },
  {
   "cell_type": "code",
   "execution_count": null,
   "metadata": {},
   "outputs": [],
   "source": [
    "from remote.agent_gpt import AgentGPT          \n",
    "from remote.agent_gpt_predictor import AgentGPTPredictor          \n",
    "server_api_uri = \"123456789012.dkr.ecr.us-east-1.amazonaws.com/agentgpt-server-test:latest\"\n",
    "sagemaker_config.api_uri = server_api_uri"
   ]
  },
  {
   "cell_type": "code",
   "execution_count": null,
   "metadata": {},
   "outputs": [],
   "source": [
    "agent_gpt:AgentGPTPredictor = AgentGPT.run(sagemaker_config)"
   ]
  },
  {
   "cell_type": "code",
   "execution_count": null,
   "metadata": {},
   "outputs": [],
   "source": [
    "for i in range(100):\n",
    "    sampled_observation = agent_gpt.sample_observation()\n",
    "    print(f\"Sampled observation: {sampled_observation}\")\n",
    "    action = agent_gpt.select_action(agent_ids = [\"junho\", \"bob\", 'joe'], observations=sampled_observation)\n",
    "    print(f\"Selected action: {action}\")\n",
    "    \n",
    "agent_gpt.status()"
   ]
  }
 ],
 "metadata": {
  "kernelspec": {
   "display_name": "admin",
   "language": "python",
   "name": "python3"
  },
  "language_info": {
   "codemirror_mode": {
    "name": "ipython",
    "version": 3
   },
   "file_extension": ".py",
   "mimetype": "text/x-python",
   "name": "python",
   "nbconvert_exporter": "python",
   "pygments_lexer": "ipython3",
   "version": "3.9.20"
  }
 },
 "nbformat": 4,
 "nbformat_minor": 2
}
