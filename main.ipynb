{
 "cells": [
  {
   "cell_type": "code",
   "execution_count": 1,
   "metadata": {},
   "outputs": [
    {
     "name": "stderr",
     "output_type": "stream",
     "text": [
      "c:\\Users\\CCNets-team\\anaconda3\\envs\\client-test\\lib\\site-packages\\pydantic\\_internal\\_fields.py:192: UserWarning: Field name \"json\" in \"MonitoringDatasetFormat\" shadows an attribute in parent \"Base\"\n",
      "  warnings.warn(\n"
     ]
    },
    {
     "name": "stdout",
     "output_type": "stream",
     "text": [
      "sagemaker.config INFO - Not applying SDK defaults from location: C:\\ProgramData\\sagemaker\\sagemaker\\config.yaml\n",
      "sagemaker.config INFO - Not applying SDK defaults from location: C:\\Users\\CCNets-team\\AppData\\Local\\sagemaker\\sagemaker\\config.yaml\n",
      " * Serving Flask app 'remote.env_host'\n",
      " * Debug mode: off\n"
     ]
    },
    {
     "data": {
      "text/html": [
       "<pre style=\"white-space:pre;overflow-x:auto;line-height:normal;font-family:Menlo,'DejaVu Sans Mono',consolas,'Courier New',monospace\"><span style=\"color: #7fbfbf; text-decoration-color: #7fbfbf\">[12/27/24 10:56:34] </span><span style=\"color: #0069ff; text-decoration-color: #0069ff; font-weight: bold\">INFO    </span> \u001b<span style=\"font-weight: bold\">[</span>31m\u001b<span style=\"font-weight: bold\">[</span>1mWARNING: This is a development server. Do not use it in a       <a href=\"file://c:\\Users\\CCNets-team\\anaconda3\\envs\\client-test\\lib\\site-packages\\werkzeug\\_internal.py\" target=\"_blank\"><span style=\"color: #7f7f7f; text-decoration-color: #7f7f7f\">_internal.py</span></a><span style=\"color: #7f7f7f; text-decoration-color: #7f7f7f\">:</span><a href=\"file://c:\\Users\\CCNets-team\\anaconda3\\envs\\client-test\\lib\\site-packages\\werkzeug\\_internal.py#97\" target=\"_blank\"><span style=\"color: #7f7f7f; text-decoration-color: #7f7f7f\">97</span></a>\n",
       "<span style=\"color: #7fbfbf; text-decoration-color: #7fbfbf\">                    </span>         production deployment. Use a production WSGI server instead.\u001b<span style=\"font-weight: bold\">[</span>0m        <span style=\"color: #7f7f7f; text-decoration-color: #7f7f7f\">               </span>\n",
       "<span style=\"color: #7fbfbf; text-decoration-color: #7fbfbf\">                    </span>          * Running on <span style=\"color: #0069ff; text-decoration-color: #0069ff; text-decoration: underline\">http://127.0.0.1:5000</span>                                    <span style=\"color: #7f7f7f; text-decoration-color: #7f7f7f\">               </span>\n",
       "</pre>\n"
      ],
      "text/plain": [
       "\u001b[2;36m[12/27/24 10:56:34]\u001b[0m\u001b[2;36m \u001b[0m\u001b[1;38;2;0;105;255mINFO    \u001b[0m \u001b\u001b[1m[\u001b[0m31m\u001b\u001b[1m[\u001b[0m1mWARNING: This is a development server. Do not use it in a       \u001b]8;id=550830;file://c:\\Users\\CCNets-team\\anaconda3\\envs\\client-test\\lib\\site-packages\\werkzeug\\_internal.py\u001b\\\u001b[2m_internal.py\u001b[0m\u001b]8;;\u001b\\\u001b[2m:\u001b[0m\u001b]8;id=435016;file://c:\\Users\\CCNets-team\\anaconda3\\envs\\client-test\\lib\\site-packages\\werkzeug\\_internal.py#97\u001b\\\u001b[2m97\u001b[0m\u001b]8;;\u001b\\\n",
       "\u001b[2;36m                    \u001b[0m         production deployment. Use a production WSGI server instead.\u001b\u001b[1m[\u001b[0m0m        \u001b[2m               \u001b[0m\n",
       "\u001b[2;36m                    \u001b[0m          * Running on \u001b[4;38;2;0;105;255mhttp://127.0.0.1:5000\u001b[0m                                    \u001b[2m               \u001b[0m\n"
      ]
     },
     "metadata": {},
     "output_type": "display_data"
    },
    {
     "data": {
      "text/html": [
       "<pre style=\"white-space:pre;overflow-x:auto;line-height:normal;font-family:Menlo,'DejaVu Sans Mono',consolas,'Courier New',monospace\"><span style=\"color: #7fbfbf; text-decoration-color: #7fbfbf\">                    </span><span style=\"color: #0069ff; text-decoration-color: #0069ff; font-weight: bold\">INFO    </span> \u001b<span style=\"font-weight: bold\">[</span>33mPress CTRL+C to quit\u001b<span style=\"font-weight: bold\">[</span>0m                                            <a href=\"file://c:\\Users\\CCNets-team\\anaconda3\\envs\\client-test\\lib\\site-packages\\werkzeug\\_internal.py\" target=\"_blank\"><span style=\"color: #7f7f7f; text-decoration-color: #7f7f7f\">_internal.py</span></a><span style=\"color: #7f7f7f; text-decoration-color: #7f7f7f\">:</span><a href=\"file://c:\\Users\\CCNets-team\\anaconda3\\envs\\client-test\\lib\\site-packages\\werkzeug\\_internal.py#97\" target=\"_blank\"><span style=\"color: #7f7f7f; text-decoration-color: #7f7f7f\">97</span></a>\n",
       "</pre>\n"
      ],
      "text/plain": [
       "\u001b[2;36m                   \u001b[0m\u001b[2;36m \u001b[0m\u001b[1;38;2;0;105;255mINFO    \u001b[0m \u001b\u001b[1m[\u001b[0m33mPress CTRL+C to quit\u001b\u001b[1m[\u001b[0m0m                                            \u001b]8;id=698242;file://c:\\Users\\CCNets-team\\anaconda3\\envs\\client-test\\lib\\site-packages\\werkzeug\\_internal.py\u001b\\\u001b[2m_internal.py\u001b[0m\u001b]8;;\u001b\\\u001b[2m:\u001b[0m\u001b]8;id=144154;file://c:\\Users\\CCNets-team\\anaconda3\\envs\\client-test\\lib\\site-packages\\werkzeug\\_internal.py#97\u001b\\\u001b[2m97\u001b[0m\u001b]8;;\u001b\\\n"
      ]
     },
     "metadata": {},
     "output_type": "display_data"
    },
    {
     "name": "stdout",
     "output_type": "stream",
     "text": [
      "[INFO] Connected to Unity environment with package version 2.3.0-exp.3 and communication version 1.5.0\n"
     ]
    },
    {
     "data": {
      "text/html": [
       "<pre style=\"white-space:pre;overflow-x:auto;line-height:normal;font-family:Menlo,'DejaVu Sans Mono',consolas,'Courier New',monospace\"><span style=\"color: #7fbfbf; text-decoration-color: #7fbfbf\">[12/27/24 10:56:41] </span><span style=\"color: #0069ff; text-decoration-color: #0069ff; font-weight: bold\">INFO    </span> Connected to Unity environment with package version <span style=\"color: #008080; text-decoration-color: #008080; font-weight: bold\">2.3</span>.<span style=\"color: #008080; text-decoration-color: #008080; font-weight: bold\">0</span>-exp.<span style=\"color: #008080; text-decoration-color: #008080; font-weight: bold\">3</span> and <a href=\"file://c:\\Users\\CCNets-team\\anaconda3\\envs\\client-test\\lib\\site-packages\\mlagents_envs\\environment.py\" target=\"_blank\"><span style=\"color: #7f7f7f; text-decoration-color: #7f7f7f\">environment.py</span></a><span style=\"color: #7f7f7f; text-decoration-color: #7f7f7f\">:</span><a href=\"file://c:\\Users\\CCNets-team\\anaconda3\\envs\\client-test\\lib\\site-packages\\mlagents_envs\\environment.py#113\" target=\"_blank\"><span style=\"color: #7f7f7f; text-decoration-color: #7f7f7f\">113</span></a>\n",
       "<span style=\"color: #7fbfbf; text-decoration-color: #7fbfbf\">                    </span>         communication version <span style=\"color: #008080; text-decoration-color: #008080; font-weight: bold\">1.5</span>.<span style=\"color: #008080; text-decoration-color: #008080; font-weight: bold\">0</span>                                         <span style=\"color: #7f7f7f; text-decoration-color: #7f7f7f\">                  </span>\n",
       "</pre>\n"
      ],
      "text/plain": [
       "\u001b[2;36m[12/27/24 10:56:41]\u001b[0m\u001b[2;36m \u001b[0m\u001b[1;38;2;0;105;255mINFO    \u001b[0m Connected to Unity environment with package version \u001b[1;36m2.3\u001b[0m.\u001b[1;36m0\u001b[0m-exp.\u001b[1;36m3\u001b[0m and \u001b]8;id=228195;file://c:\\Users\\CCNets-team\\anaconda3\\envs\\client-test\\lib\\site-packages\\mlagents_envs\\environment.py\u001b\\\u001b[2menvironment.py\u001b[0m\u001b]8;;\u001b\\\u001b[2m:\u001b[0m\u001b]8;id=3803;file://c:\\Users\\CCNets-team\\anaconda3\\envs\\client-test\\lib\\site-packages\\mlagents_envs\\environment.py#113\u001b\\\u001b[2m113\u001b[0m\u001b]8;;\u001b\\\n",
       "\u001b[2;36m                    \u001b[0m         communication version \u001b[1;36m1.5\u001b[0m.\u001b[1;36m0\u001b[0m                                         \u001b[2m                  \u001b[0m\n"
      ]
     },
     "metadata": {},
     "output_type": "display_data"
    },
    {
     "name": "stdout",
     "output_type": "stream",
     "text": [
      "[INFO] Connected to Unity environment with package version 2.3.0-exp.3 and communication version 1.5.0\n"
     ]
    },
    {
     "data": {
      "text/html": [
       "<pre style=\"white-space:pre;overflow-x:auto;line-height:normal;font-family:Menlo,'DejaVu Sans Mono',consolas,'Courier New',monospace\"><span style=\"color: #7fbfbf; text-decoration-color: #7fbfbf\">                    </span><span style=\"color: #0069ff; text-decoration-color: #0069ff; font-weight: bold\">INFO    </span> Connected to Unity environment with package version <span style=\"color: #008080; text-decoration-color: #008080; font-weight: bold\">2.3</span>.<span style=\"color: #008080; text-decoration-color: #008080; font-weight: bold\">0</span>-exp.<span style=\"color: #008080; text-decoration-color: #008080; font-weight: bold\">3</span> and <a href=\"file://c:\\Users\\CCNets-team\\anaconda3\\envs\\client-test\\lib\\site-packages\\mlagents_envs\\environment.py\" target=\"_blank\"><span style=\"color: #7f7f7f; text-decoration-color: #7f7f7f\">environment.py</span></a><span style=\"color: #7f7f7f; text-decoration-color: #7f7f7f\">:</span><a href=\"file://c:\\Users\\CCNets-team\\anaconda3\\envs\\client-test\\lib\\site-packages\\mlagents_envs\\environment.py#113\" target=\"_blank\"><span style=\"color: #7f7f7f; text-decoration-color: #7f7f7f\">113</span></a>\n",
       "<span style=\"color: #7fbfbf; text-decoration-color: #7fbfbf\">                    </span>         communication version <span style=\"color: #008080; text-decoration-color: #008080; font-weight: bold\">1.5</span>.<span style=\"color: #008080; text-decoration-color: #008080; font-weight: bold\">0</span>                                         <span style=\"color: #7f7f7f; text-decoration-color: #7f7f7f\">                  </span>\n",
       "</pre>\n"
      ],
      "text/plain": [
       "\u001b[2;36m                   \u001b[0m\u001b[2;36m \u001b[0m\u001b[1;38;2;0;105;255mINFO    \u001b[0m Connected to Unity environment with package version \u001b[1;36m2.3\u001b[0m.\u001b[1;36m0\u001b[0m-exp.\u001b[1;36m3\u001b[0m and \u001b]8;id=145607;file://c:\\Users\\CCNets-team\\anaconda3\\envs\\client-test\\lib\\site-packages\\mlagents_envs\\environment.py\u001b\\\u001b[2menvironment.py\u001b[0m\u001b]8;;\u001b\\\u001b[2m:\u001b[0m\u001b]8;id=877662;file://c:\\Users\\CCNets-team\\anaconda3\\envs\\client-test\\lib\\site-packages\\mlagents_envs\\environment.py#113\u001b\\\u001b[2m113\u001b[0m\u001b]8;;\u001b\\\n",
       "\u001b[2;36m                    \u001b[0m         communication version \u001b[1;36m1.5\u001b[0m.\u001b[1;36m0\u001b[0m                                         \u001b[2m                  \u001b[0m\n"
      ]
     },
     "metadata": {},
     "output_type": "display_data"
    },
    {
     "name": "stdout",
     "output_type": "stream",
     "text": [
      "[INFO] Connected new brain: Walker?team=0\n"
     ]
    },
    {
     "data": {
      "text/html": [
       "<pre style=\"white-space:pre;overflow-x:auto;line-height:normal;font-family:Menlo,'DejaVu Sans Mono',consolas,'Courier New',monospace\"><span style=\"color: #7fbfbf; text-decoration-color: #7fbfbf\">                    </span><span style=\"color: #0069ff; text-decoration-color: #0069ff; font-weight: bold\">INFO    </span> Connected new brain: Walker?<span style=\"color: #d7af00; text-decoration-color: #d7af00\">team</span>=<span style=\"color: #008080; text-decoration-color: #008080; font-weight: bold\">0</span>                                  <a href=\"file://c:\\Users\\CCNets-team\\anaconda3\\envs\\client-test\\lib\\site-packages\\mlagents_envs\\environment.py\" target=\"_blank\"><span style=\"color: #7f7f7f; text-decoration-color: #7f7f7f\">environment.py</span></a><span style=\"color: #7f7f7f; text-decoration-color: #7f7f7f\">:</span><a href=\"file://c:\\Users\\CCNets-team\\anaconda3\\envs\\client-test\\lib\\site-packages\\mlagents_envs\\environment.py#297\" target=\"_blank\"><span style=\"color: #7f7f7f; text-decoration-color: #7f7f7f\">297</span></a>\n",
       "</pre>\n"
      ],
      "text/plain": [
       "\u001b[2;36m                   \u001b[0m\u001b[2;36m \u001b[0m\u001b[1;38;2;0;105;255mINFO    \u001b[0m Connected new brain: Walker?\u001b[38;2;215;175;0mteam\u001b[0m=\u001b[1;36m0\u001b[0m                                  \u001b]8;id=555772;file://c:\\Users\\CCNets-team\\anaconda3\\envs\\client-test\\lib\\site-packages\\mlagents_envs\\environment.py\u001b\\\u001b[2menvironment.py\u001b[0m\u001b]8;;\u001b\\\u001b[2m:\u001b[0m\u001b]8;id=560908;file://c:\\Users\\CCNets-team\\anaconda3\\envs\\client-test\\lib\\site-packages\\mlagents_envs\\environment.py#297\u001b\\\u001b[2m297\u001b[0m\u001b]8;;\u001b\\\n"
      ]
     },
     "metadata": {},
     "output_type": "display_data"
    },
    {
     "name": "stdout",
     "output_type": "stream",
     "text": [
      "[INFO] Connected new brain: Walker?team=0\n"
     ]
    },
    {
     "data": {
      "text/html": [
       "<pre style=\"white-space:pre;overflow-x:auto;line-height:normal;font-family:Menlo,'DejaVu Sans Mono',consolas,'Courier New',monospace\"><span style=\"color: #7fbfbf; text-decoration-color: #7fbfbf\">                    </span><span style=\"color: #0069ff; text-decoration-color: #0069ff; font-weight: bold\">INFO    </span> Connected new brain: Walker?<span style=\"color: #d7af00; text-decoration-color: #d7af00\">team</span>=<span style=\"color: #008080; text-decoration-color: #008080; font-weight: bold\">0</span>                                  <a href=\"file://c:\\Users\\CCNets-team\\anaconda3\\envs\\client-test\\lib\\site-packages\\mlagents_envs\\environment.py\" target=\"_blank\"><span style=\"color: #7f7f7f; text-decoration-color: #7f7f7f\">environment.py</span></a><span style=\"color: #7f7f7f; text-decoration-color: #7f7f7f\">:</span><a href=\"file://c:\\Users\\CCNets-team\\anaconda3\\envs\\client-test\\lib\\site-packages\\mlagents_envs\\environment.py#297\" target=\"_blank\"><span style=\"color: #7f7f7f; text-decoration-color: #7f7f7f\">297</span></a>\n",
       "</pre>\n"
      ],
      "text/plain": [
       "\u001b[2;36m                   \u001b[0m\u001b[2;36m \u001b[0m\u001b[1;38;2;0;105;255mINFO    \u001b[0m Connected new brain: Walker?\u001b[38;2;215;175;0mteam\u001b[0m=\u001b[1;36m0\u001b[0m                                  \u001b]8;id=219176;file://c:\\Users\\CCNets-team\\anaconda3\\envs\\client-test\\lib\\site-packages\\mlagents_envs\\environment.py\u001b\\\u001b[2menvironment.py\u001b[0m\u001b]8;;\u001b\\\u001b[2m:\u001b[0m\u001b]8;id=632723;file://c:\\Users\\CCNets-team\\anaconda3\\envs\\client-test\\lib\\site-packages\\mlagents_envs\\environment.py#297\u001b\\\u001b[2m297\u001b[0m\u001b]8;;\u001b\\\n"
      ]
     },
     "metadata": {},
     "output_type": "display_data"
    },
    {
     "data": {
      "text/html": [
       "<pre style=\"white-space:pre;overflow-x:auto;line-height:normal;font-family:Menlo,'DejaVu Sans Mono',consolas,'Courier New',monospace\"><span style=\"color: #7fbfbf; text-decoration-color: #7fbfbf\">                    </span><span style=\"color: #0069ff; text-decoration-color: #0069ff; font-weight: bold\">INFO    </span> Vectorized environment Walker created with <span style=\"color: #008080; text-decoration-color: #008080; font-weight: bold\">2</span> instances, key             <a href=\"file://c:\\Users\\CCNets-team\\Projects\\one-click-robotics-client-API\\remote\\env_host.py\" target=\"_blank\"><span style=\"color: #7f7f7f; text-decoration-color: #7f7f7f\">env_host.py</span></a><span style=\"color: #7f7f7f; text-decoration-color: #7f7f7f\">:</span><a href=\"file://c:\\Users\\CCNets-team\\Projects\\one-click-robotics-client-API\\remote\\env_host.py#62\" target=\"_blank\"><span style=\"color: #7f7f7f; text-decoration-color: #7f7f7f\">62</span></a>\n",
       "<span style=\"color: #7fbfbf; text-decoration-color: #7fbfbf\">                    </span>         <span style=\"color: #ffff00; text-decoration-color: #ffff00\">0d842fa4-7808-4f8d-9f6f-f2b25f88e212</span>.                                   <span style=\"color: #7f7f7f; text-decoration-color: #7f7f7f\">              </span>\n",
       "</pre>\n"
      ],
      "text/plain": [
       "\u001b[2;36m                   \u001b[0m\u001b[2;36m \u001b[0m\u001b[1;38;2;0;105;255mINFO    \u001b[0m Vectorized environment Walker created with \u001b[1;36m2\u001b[0m instances, key             \u001b]8;id=888107;file://c:\\Users\\CCNets-team\\Projects\\one-click-robotics-client-API\\remote\\env_host.py\u001b\\\u001b[2menv_host.py\u001b[0m\u001b]8;;\u001b\\\u001b[2m:\u001b[0m\u001b]8;id=77747;file://c:\\Users\\CCNets-team\\Projects\\one-click-robotics-client-API\\remote\\env_host.py#62\u001b\\\u001b[2m62\u001b[0m\u001b]8;;\u001b\\\n",
       "\u001b[2;36m                    \u001b[0m         \u001b[93m0d842fa4-7808-4f8d-9f6f-f2b25f88e212\u001b[0m.                                   \u001b[2m              \u001b[0m\n"
      ]
     },
     "metadata": {},
     "output_type": "display_data"
    },
    {
     "data": {
      "text/html": [
       "<pre style=\"white-space:pre;overflow-x:auto;line-height:normal;font-family:Menlo,'DejaVu Sans Mono',consolas,'Courier New',monospace\"><span style=\"color: #7fbfbf; text-decoration-color: #7fbfbf\">                    </span><span style=\"color: #0069ff; text-decoration-color: #0069ff; font-weight: bold\">INFO    </span> 127.0.0.1 - - <span style=\"font-weight: bold\">[</span><span style=\"color: #008080; text-decoration-color: #008080; font-weight: bold\">27</span>/Dec/<span style=\"color: #008080; text-decoration-color: #008080; font-weight: bold\">2024</span> 10:56:41<span style=\"font-weight: bold\">]</span> <span style=\"color: #008700; text-decoration-color: #008700\">\"</span><span style=\"color: #d7af00; text-decoration-color: #d7af00; font-weight: bold\">POST</span><span style=\"color: #008700; text-decoration-color: #008700\"> /make_vec HTTP/1.1\"</span> <span style=\"color: #008080; text-decoration-color: #008080; font-weight: bold\">200</span> -   <a href=\"file://c:\\Users\\CCNets-team\\anaconda3\\envs\\client-test\\lib\\site-packages\\werkzeug\\_internal.py\" target=\"_blank\"><span style=\"color: #7f7f7f; text-decoration-color: #7f7f7f\">_internal.py</span></a><span style=\"color: #7f7f7f; text-decoration-color: #7f7f7f\">:</span><a href=\"file://c:\\Users\\CCNets-team\\anaconda3\\envs\\client-test\\lib\\site-packages\\werkzeug\\_internal.py#97\" target=\"_blank\"><span style=\"color: #7f7f7f; text-decoration-color: #7f7f7f\">97</span></a>\n",
       "</pre>\n"
      ],
      "text/plain": [
       "\u001b[2;36m                   \u001b[0m\u001b[2;36m \u001b[0m\u001b[1;38;2;0;105;255mINFO    \u001b[0m 127.0.0.1 - - \u001b[1m[\u001b[0m\u001b[1;36m27\u001b[0m/Dec/\u001b[1;36m2024\u001b[0m 10:56:41\u001b[1m]\u001b[0m \u001b[38;2;0;135;0m\"\u001b[0m\u001b[1;38;2;215;175;0mPOST\u001b[0m\u001b[38;2;0;135;0m /make_vec HTTP/1.1\"\u001b[0m \u001b[1;36m200\u001b[0m -   \u001b]8;id=117673;file://c:\\Users\\CCNets-team\\anaconda3\\envs\\client-test\\lib\\site-packages\\werkzeug\\_internal.py\u001b\\\u001b[2m_internal.py\u001b[0m\u001b]8;;\u001b\\\u001b[2m:\u001b[0m\u001b]8;id=461398;file://c:\\Users\\CCNets-team\\anaconda3\\envs\\client-test\\lib\\site-packages\\werkzeug\\_internal.py#97\u001b\\\u001b[2m97\u001b[0m\u001b]8;;\u001b\\\n"
      ]
     },
     "metadata": {},
     "output_type": "display_data"
    },
    {
     "data": {
      "text/html": [
       "<pre style=\"white-space:pre;overflow-x:auto;line-height:normal;font-family:Menlo,'DejaVu Sans Mono',consolas,'Courier New',monospace\"><span style=\"color: #7fbfbf; text-decoration-color: #7fbfbf\">                    </span><span style=\"color: #0069ff; text-decoration-color: #0069ff; font-weight: bold\">INFO    </span> 127.0.0.1 - - <span style=\"font-weight: bold\">[</span><span style=\"color: #008080; text-decoration-color: #008080; font-weight: bold\">27</span>/Dec/<span style=\"color: #008080; text-decoration-color: #008080; font-weight: bold\">2024</span> 10:56:41<span style=\"font-weight: bold\">]</span> <span style=\"color: #008700; text-decoration-color: #008700\">\"</span><span style=\"color: #d7af00; text-decoration-color: #d7af00; font-weight: bold\">GET</span><span style=\"color: #008700; text-decoration-color: #008700\"> </span>                             <a href=\"file://c:\\Users\\CCNets-team\\anaconda3\\envs\\client-test\\lib\\site-packages\\werkzeug\\_internal.py\" target=\"_blank\"><span style=\"color: #7f7f7f; text-decoration-color: #7f7f7f\">_internal.py</span></a><span style=\"color: #7f7f7f; text-decoration-color: #7f7f7f\">:</span><a href=\"file://c:\\Users\\CCNets-team\\anaconda3\\envs\\client-test\\lib\\site-packages\\werkzeug\\_internal.py#97\" target=\"_blank\"><span style=\"color: #7f7f7f; text-decoration-color: #7f7f7f\">97</span></a>\n",
       "<span style=\"color: #7fbfbf; text-decoration-color: #7fbfbf\">                    </span>         <span style=\"color: #008700; text-decoration-color: #008700\">/observation_space?</span><span style=\"color: #008700; text-decoration-color: #008700\">env_key</span><span style=\"color: #008700; text-decoration-color: #008700\">=</span><span style=\"color: #008700; text-decoration-color: #008700\">0d842fa4</span><span style=\"color: #008700; text-decoration-color: #008700\">-7808-4f8d-9f6f-f2b25f88e212 </span>       <span style=\"color: #7f7f7f; text-decoration-color: #7f7f7f\">               </span>\n",
       "<span style=\"color: #7fbfbf; text-decoration-color: #7fbfbf\">                    </span>         <span style=\"color: #008700; text-decoration-color: #008700\">HTTP/1.1\"</span> <span style=\"color: #008080; text-decoration-color: #008080; font-weight: bold\">200</span> -                                                        <span style=\"color: #7f7f7f; text-decoration-color: #7f7f7f\">               </span>\n",
       "</pre>\n"
      ],
      "text/plain": [
       "\u001b[2;36m                   \u001b[0m\u001b[2;36m \u001b[0m\u001b[1;38;2;0;105;255mINFO    \u001b[0m 127.0.0.1 - - \u001b[1m[\u001b[0m\u001b[1;36m27\u001b[0m/Dec/\u001b[1;36m2024\u001b[0m 10:56:41\u001b[1m]\u001b[0m \u001b[38;2;0;135;0m\"\u001b[0m\u001b[1;38;2;215;175;0mGET\u001b[0m\u001b[38;2;0;135;0m \u001b[0m                             \u001b]8;id=664315;file://c:\\Users\\CCNets-team\\anaconda3\\envs\\client-test\\lib\\site-packages\\werkzeug\\_internal.py\u001b\\\u001b[2m_internal.py\u001b[0m\u001b]8;;\u001b\\\u001b[2m:\u001b[0m\u001b]8;id=405064;file://c:\\Users\\CCNets-team\\anaconda3\\envs\\client-test\\lib\\site-packages\\werkzeug\\_internal.py#97\u001b\\\u001b[2m97\u001b[0m\u001b]8;;\u001b\\\n",
       "\u001b[2;36m                    \u001b[0m         \u001b[38;2;0;135;0m/observation_space?\u001b[0m\u001b[38;2;0;135;0menv_key\u001b[0m\u001b[38;2;0;135;0m=\u001b[0m\u001b[38;2;0;135;0m0d842fa4\u001b[0m\u001b[38;2;0;135;0m-7808-4f8d-9f6f-f2b25f88e212 \u001b[0m       \u001b[2m               \u001b[0m\n",
       "\u001b[2;36m                    \u001b[0m         \u001b[38;2;0;135;0mHTTP/1.1\"\u001b[0m \u001b[1;36m200\u001b[0m -                                                        \u001b[2m               \u001b[0m\n"
      ]
     },
     "metadata": {},
     "output_type": "display_data"
    },
    {
     "data": {
      "text/html": [
       "<pre style=\"white-space:pre;overflow-x:auto;line-height:normal;font-family:Menlo,'DejaVu Sans Mono',consolas,'Courier New',monospace\"><span style=\"color: #7fbfbf; text-decoration-color: #7fbfbf\">                    </span><span style=\"color: #0069ff; text-decoration-color: #0069ff; font-weight: bold\">INFO    </span> 127.0.0.1 - - <span style=\"font-weight: bold\">[</span><span style=\"color: #008080; text-decoration-color: #008080; font-weight: bold\">27</span>/Dec/<span style=\"color: #008080; text-decoration-color: #008080; font-weight: bold\">2024</span> 10:56:41<span style=\"font-weight: bold\">]</span> <span style=\"color: #008700; text-decoration-color: #008700\">\"</span><span style=\"color: #d7af00; text-decoration-color: #d7af00; font-weight: bold\">GET</span><span style=\"color: #008700; text-decoration-color: #008700\"> </span>                             <a href=\"file://c:\\Users\\CCNets-team\\anaconda3\\envs\\client-test\\lib\\site-packages\\werkzeug\\_internal.py\" target=\"_blank\"><span style=\"color: #7f7f7f; text-decoration-color: #7f7f7f\">_internal.py</span></a><span style=\"color: #7f7f7f; text-decoration-color: #7f7f7f\">:</span><a href=\"file://c:\\Users\\CCNets-team\\anaconda3\\envs\\client-test\\lib\\site-packages\\werkzeug\\_internal.py#97\" target=\"_blank\"><span style=\"color: #7f7f7f; text-decoration-color: #7f7f7f\">97</span></a>\n",
       "<span style=\"color: #7fbfbf; text-decoration-color: #7fbfbf\">                    </span>         <span style=\"color: #008700; text-decoration-color: #008700\">/action_space?</span><span style=\"color: #008700; text-decoration-color: #008700\">env_key</span><span style=\"color: #008700; text-decoration-color: #008700\">=</span><span style=\"color: #008700; text-decoration-color: #008700\">0d842fa4</span><span style=\"color: #008700; text-decoration-color: #008700\">-7808-4f8d-9f6f-f2b25f88e212 HTTP/1.1\"</span>   <span style=\"color: #7f7f7f; text-decoration-color: #7f7f7f\">               </span>\n",
       "<span style=\"color: #7fbfbf; text-decoration-color: #7fbfbf\">                    </span>         <span style=\"color: #008080; text-decoration-color: #008080; font-weight: bold\">200</span> -                                                                  <span style=\"color: #7f7f7f; text-decoration-color: #7f7f7f\">               </span>\n",
       "</pre>\n"
      ],
      "text/plain": [
       "\u001b[2;36m                   \u001b[0m\u001b[2;36m \u001b[0m\u001b[1;38;2;0;105;255mINFO    \u001b[0m 127.0.0.1 - - \u001b[1m[\u001b[0m\u001b[1;36m27\u001b[0m/Dec/\u001b[1;36m2024\u001b[0m 10:56:41\u001b[1m]\u001b[0m \u001b[38;2;0;135;0m\"\u001b[0m\u001b[1;38;2;215;175;0mGET\u001b[0m\u001b[38;2;0;135;0m \u001b[0m                             \u001b]8;id=57153;file://c:\\Users\\CCNets-team\\anaconda3\\envs\\client-test\\lib\\site-packages\\werkzeug\\_internal.py\u001b\\\u001b[2m_internal.py\u001b[0m\u001b]8;;\u001b\\\u001b[2m:\u001b[0m\u001b]8;id=49381;file://c:\\Users\\CCNets-team\\anaconda3\\envs\\client-test\\lib\\site-packages\\werkzeug\\_internal.py#97\u001b\\\u001b[2m97\u001b[0m\u001b]8;;\u001b\\\n",
       "\u001b[2;36m                    \u001b[0m         \u001b[38;2;0;135;0m/action_space?\u001b[0m\u001b[38;2;0;135;0menv_key\u001b[0m\u001b[38;2;0;135;0m=\u001b[0m\u001b[38;2;0;135;0m0d842fa4\u001b[0m\u001b[38;2;0;135;0m-7808-4f8d-9f6f-f2b25f88e212 HTTP/1.1\"\u001b[0m   \u001b[2m               \u001b[0m\n",
       "\u001b[2;36m                    \u001b[0m         \u001b[1;36m200\u001b[0m -                                                                  \u001b[2m               \u001b[0m\n"
      ]
     },
     "metadata": {},
     "output_type": "display_data"
    },
    {
     "data": {
      "text/html": [
       "<pre style=\"white-space:pre;overflow-x:auto;line-height:normal;font-family:Menlo,'DejaVu Sans Mono',consolas,'Courier New',monospace\"><span style=\"color: #7fbfbf; text-decoration-color: #7fbfbf\">[12/27/24 10:56:42] </span><span style=\"color: #0069ff; text-decoration-color: #0069ff; font-weight: bold\">INFO    </span> Environment with key <span style=\"color: #ffff00; text-decoration-color: #ffff00\">0d842fa4-7808-4f8d-9f6f-f2b25f88e212</span> closed.      <a href=\"file://c:\\Users\\CCNets-team\\Projects\\one-click-robotics-client-API\\remote\\env_host.py\" target=\"_blank\"><span style=\"color: #7f7f7f; text-decoration-color: #7f7f7f\">env_host.py</span></a><span style=\"color: #7f7f7f; text-decoration-color: #7f7f7f\">:</span><a href=\"file://c:\\Users\\CCNets-team\\Projects\\one-click-robotics-client-API\\remote\\env_host.py#135\" target=\"_blank\"><span style=\"color: #7f7f7f; text-decoration-color: #7f7f7f\">135</span></a>\n",
       "</pre>\n"
      ],
      "text/plain": [
       "\u001b[2;36m[12/27/24 10:56:42]\u001b[0m\u001b[2;36m \u001b[0m\u001b[1;38;2;0;105;255mINFO    \u001b[0m Environment with key \u001b[93m0d842fa4-7808-4f8d-9f6f-f2b25f88e212\u001b[0m closed.      \u001b]8;id=71245;file://c:\\Users\\CCNets-team\\Projects\\one-click-robotics-client-API\\remote\\env_host.py\u001b\\\u001b[2menv_host.py\u001b[0m\u001b]8;;\u001b\\\u001b[2m:\u001b[0m\u001b]8;id=724899;file://c:\\Users\\CCNets-team\\Projects\\one-click-robotics-client-API\\remote\\env_host.py#135\u001b\\\u001b[2m135\u001b[0m\u001b]8;;\u001b\\\n"
      ]
     },
     "metadata": {},
     "output_type": "display_data"
    },
    {
     "data": {
      "text/html": [
       "<pre style=\"white-space:pre;overflow-x:auto;line-height:normal;font-family:Menlo,'DejaVu Sans Mono',consolas,'Courier New',monospace\"><span style=\"color: #7fbfbf; text-decoration-color: #7fbfbf\">                    </span><span style=\"color: #0069ff; text-decoration-color: #0069ff; font-weight: bold\">INFO    </span> 127.0.0.1 - - <span style=\"font-weight: bold\">[</span><span style=\"color: #008080; text-decoration-color: #008080; font-weight: bold\">27</span>/Dec/<span style=\"color: #008080; text-decoration-color: #008080; font-weight: bold\">2024</span> 10:56:42<span style=\"font-weight: bold\">]</span> <span style=\"color: #008700; text-decoration-color: #008700\">\"</span><span style=\"color: #d7af00; text-decoration-color: #d7af00; font-weight: bold\">POST</span><span style=\"color: #008700; text-decoration-color: #008700\"> /close HTTP/1.1\"</span> <span style=\"color: #008080; text-decoration-color: #008080; font-weight: bold\">200</span> -      <a href=\"file://c:\\Users\\CCNets-team\\anaconda3\\envs\\client-test\\lib\\site-packages\\werkzeug\\_internal.py\" target=\"_blank\"><span style=\"color: #7f7f7f; text-decoration-color: #7f7f7f\">_internal.py</span></a><span style=\"color: #7f7f7f; text-decoration-color: #7f7f7f\">:</span><a href=\"file://c:\\Users\\CCNets-team\\anaconda3\\envs\\client-test\\lib\\site-packages\\werkzeug\\_internal.py#97\" target=\"_blank\"><span style=\"color: #7f7f7f; text-decoration-color: #7f7f7f\">97</span></a>\n",
       "</pre>\n"
      ],
      "text/plain": [
       "\u001b[2;36m                   \u001b[0m\u001b[2;36m \u001b[0m\u001b[1;38;2;0;105;255mINFO    \u001b[0m 127.0.0.1 - - \u001b[1m[\u001b[0m\u001b[1;36m27\u001b[0m/Dec/\u001b[1;36m2024\u001b[0m 10:56:42\u001b[1m]\u001b[0m \u001b[38;2;0;135;0m\"\u001b[0m\u001b[1;38;2;215;175;0mPOST\u001b[0m\u001b[38;2;0;135;0m /close HTTP/1.1\"\u001b[0m \u001b[1;36m200\u001b[0m -      \u001b]8;id=692907;file://c:\\Users\\CCNets-team\\anaconda3\\envs\\client-test\\lib\\site-packages\\werkzeug\\_internal.py\u001b\\\u001b[2m_internal.py\u001b[0m\u001b]8;;\u001b\\\u001b[2m:\u001b[0m\u001b]8;id=812845;file://c:\\Users\\CCNets-team\\anaconda3\\envs\\client-test\\lib\\site-packages\\werkzeug\\_internal.py#97\u001b\\\u001b[2m97\u001b[0m\u001b]8;;\u001b\\\n"
      ]
     },
     "metadata": {},
     "output_type": "display_data"
    },
    {
     "name": "stdout",
     "output_type": "stream",
     "text": [
      "[INFO] Connected to Unity environment with package version 2.3.0-exp.3 and communication version 1.5.0\n"
     ]
    },
    {
     "data": {
      "text/html": [
       "<pre style=\"white-space:pre;overflow-x:auto;line-height:normal;font-family:Menlo,'DejaVu Sans Mono',consolas,'Courier New',monospace\"><span style=\"color: #7fbfbf; text-decoration-color: #7fbfbf\">                    </span><span style=\"color: #0069ff; text-decoration-color: #0069ff; font-weight: bold\">INFO    </span> Connected to Unity environment with package version <span style=\"color: #008080; text-decoration-color: #008080; font-weight: bold\">2.3</span>.<span style=\"color: #008080; text-decoration-color: #008080; font-weight: bold\">0</span>-exp.<span style=\"color: #008080; text-decoration-color: #008080; font-weight: bold\">3</span> and <a href=\"file://c:\\Users\\CCNets-team\\anaconda3\\envs\\client-test\\lib\\site-packages\\mlagents_envs\\environment.py\" target=\"_blank\"><span style=\"color: #7f7f7f; text-decoration-color: #7f7f7f\">environment.py</span></a><span style=\"color: #7f7f7f; text-decoration-color: #7f7f7f\">:</span><a href=\"file://c:\\Users\\CCNets-team\\anaconda3\\envs\\client-test\\lib\\site-packages\\mlagents_envs\\environment.py#113\" target=\"_blank\"><span style=\"color: #7f7f7f; text-decoration-color: #7f7f7f\">113</span></a>\n",
       "<span style=\"color: #7fbfbf; text-decoration-color: #7fbfbf\">                    </span>         communication version <span style=\"color: #008080; text-decoration-color: #008080; font-weight: bold\">1.5</span>.<span style=\"color: #008080; text-decoration-color: #008080; font-weight: bold\">0</span>                                         <span style=\"color: #7f7f7f; text-decoration-color: #7f7f7f\">                  </span>\n",
       "</pre>\n"
      ],
      "text/plain": [
       "\u001b[2;36m                   \u001b[0m\u001b[2;36m \u001b[0m\u001b[1;38;2;0;105;255mINFO    \u001b[0m Connected to Unity environment with package version \u001b[1;36m2.3\u001b[0m.\u001b[1;36m0\u001b[0m-exp.\u001b[1;36m3\u001b[0m and \u001b]8;id=233404;file://c:\\Users\\CCNets-team\\anaconda3\\envs\\client-test\\lib\\site-packages\\mlagents_envs\\environment.py\u001b\\\u001b[2menvironment.py\u001b[0m\u001b]8;;\u001b\\\u001b[2m:\u001b[0m\u001b]8;id=924699;file://c:\\Users\\CCNets-team\\anaconda3\\envs\\client-test\\lib\\site-packages\\mlagents_envs\\environment.py#113\u001b\\\u001b[2m113\u001b[0m\u001b]8;;\u001b\\\n",
       "\u001b[2;36m                    \u001b[0m         communication version \u001b[1;36m1.5\u001b[0m.\u001b[1;36m0\u001b[0m                                         \u001b[2m                  \u001b[0m\n"
      ]
     },
     "metadata": {},
     "output_type": "display_data"
    },
    {
     "name": "stdout",
     "output_type": "stream",
     "text": [
      "[INFO] Connected new brain: Walker?team=0\n"
     ]
    },
    {
     "data": {
      "text/html": [
       "<pre style=\"white-space:pre;overflow-x:auto;line-height:normal;font-family:Menlo,'DejaVu Sans Mono',consolas,'Courier New',monospace\"><span style=\"color: #7fbfbf; text-decoration-color: #7fbfbf\">                    </span><span style=\"color: #0069ff; text-decoration-color: #0069ff; font-weight: bold\">INFO    </span> Connected new brain: Walker?<span style=\"color: #d7af00; text-decoration-color: #d7af00\">team</span>=<span style=\"color: #008080; text-decoration-color: #008080; font-weight: bold\">0</span>                                  <a href=\"file://c:\\Users\\CCNets-team\\anaconda3\\envs\\client-test\\lib\\site-packages\\mlagents_envs\\environment.py\" target=\"_blank\"><span style=\"color: #7f7f7f; text-decoration-color: #7f7f7f\">environment.py</span></a><span style=\"color: #7f7f7f; text-decoration-color: #7f7f7f\">:</span><a href=\"file://c:\\Users\\CCNets-team\\anaconda3\\envs\\client-test\\lib\\site-packages\\mlagents_envs\\environment.py#297\" target=\"_blank\"><span style=\"color: #7f7f7f; text-decoration-color: #7f7f7f\">297</span></a>\n",
       "</pre>\n"
      ],
      "text/plain": [
       "\u001b[2;36m                   \u001b[0m\u001b[2;36m \u001b[0m\u001b[1;38;2;0;105;255mINFO    \u001b[0m Connected new brain: Walker?\u001b[38;2;215;175;0mteam\u001b[0m=\u001b[1;36m0\u001b[0m                                  \u001b]8;id=586205;file://c:\\Users\\CCNets-team\\anaconda3\\envs\\client-test\\lib\\site-packages\\mlagents_envs\\environment.py\u001b\\\u001b[2menvironment.py\u001b[0m\u001b]8;;\u001b\\\u001b[2m:\u001b[0m\u001b]8;id=233779;file://c:\\Users\\CCNets-team\\anaconda3\\envs\\client-test\\lib\\site-packages\\mlagents_envs\\environment.py#297\u001b\\\u001b[2m297\u001b[0m\u001b]8;;\u001b\\\n"
      ]
     },
     "metadata": {},
     "output_type": "display_data"
    },
    {
     "data": {
      "text/html": [
       "<pre style=\"white-space:pre;overflow-x:auto;line-height:normal;font-family:Menlo,'DejaVu Sans Mono',consolas,'Courier New',monospace\"><span style=\"color: #7fbfbf; text-decoration-color: #7fbfbf\">                    </span><span style=\"color: #0069ff; text-decoration-color: #0069ff; font-weight: bold\">INFO    </span> Environment Walker created with key                                     <a href=\"file://c:\\Users\\CCNets-team\\Projects\\one-click-robotics-client-API\\remote\\env_host.py\" target=\"_blank\"><span style=\"color: #7f7f7f; text-decoration-color: #7f7f7f\">env_host.py</span></a><span style=\"color: #7f7f7f; text-decoration-color: #7f7f7f\">:</span><a href=\"file://c:\\Users\\CCNets-team\\Projects\\one-click-robotics-client-API\\remote\\env_host.py#46\" target=\"_blank\"><span style=\"color: #7f7f7f; text-decoration-color: #7f7f7f\">46</span></a>\n",
       "<span style=\"color: #7fbfbf; text-decoration-color: #7fbfbf\">                    </span>         <span style=\"color: #ffff00; text-decoration-color: #ffff00\">44dc4994-09aa-431d-9e85-fa9d78022412</span>.                                   <span style=\"color: #7f7f7f; text-decoration-color: #7f7f7f\">              </span>\n",
       "</pre>\n"
      ],
      "text/plain": [
       "\u001b[2;36m                   \u001b[0m\u001b[2;36m \u001b[0m\u001b[1;38;2;0;105;255mINFO    \u001b[0m Environment Walker created with key                                     \u001b]8;id=940190;file://c:\\Users\\CCNets-team\\Projects\\one-click-robotics-client-API\\remote\\env_host.py\u001b\\\u001b[2menv_host.py\u001b[0m\u001b]8;;\u001b\\\u001b[2m:\u001b[0m\u001b]8;id=222977;file://c:\\Users\\CCNets-team\\Projects\\one-click-robotics-client-API\\remote\\env_host.py#46\u001b\\\u001b[2m46\u001b[0m\u001b]8;;\u001b\\\n",
       "\u001b[2;36m                    \u001b[0m         \u001b[93m44dc4994-09aa-431d-9e85-fa9d78022412\u001b[0m.                                   \u001b[2m              \u001b[0m\n"
      ]
     },
     "metadata": {},
     "output_type": "display_data"
    },
    {
     "data": {
      "text/html": [
       "<pre style=\"white-space:pre;overflow-x:auto;line-height:normal;font-family:Menlo,'DejaVu Sans Mono',consolas,'Courier New',monospace\"><span style=\"color: #7fbfbf; text-decoration-color: #7fbfbf\">                    </span><span style=\"color: #0069ff; text-decoration-color: #0069ff; font-weight: bold\">INFO    </span> 127.0.0.1 - - <span style=\"font-weight: bold\">[</span><span style=\"color: #008080; text-decoration-color: #008080; font-weight: bold\">27</span>/Dec/<span style=\"color: #008080; text-decoration-color: #008080; font-weight: bold\">2024</span> 10:56:42<span style=\"font-weight: bold\">]</span> <span style=\"color: #008700; text-decoration-color: #008700\">\"</span><span style=\"color: #d7af00; text-decoration-color: #d7af00; font-weight: bold\">POST</span><span style=\"color: #008700; text-decoration-color: #008700\"> /make HTTP/1.1\"</span> <span style=\"color: #008080; text-decoration-color: #008080; font-weight: bold\">200</span> -       <a href=\"file://c:\\Users\\CCNets-team\\anaconda3\\envs\\client-test\\lib\\site-packages\\werkzeug\\_internal.py\" target=\"_blank\"><span style=\"color: #7f7f7f; text-decoration-color: #7f7f7f\">_internal.py</span></a><span style=\"color: #7f7f7f; text-decoration-color: #7f7f7f\">:</span><a href=\"file://c:\\Users\\CCNets-team\\anaconda3\\envs\\client-test\\lib\\site-packages\\werkzeug\\_internal.py#97\" target=\"_blank\"><span style=\"color: #7f7f7f; text-decoration-color: #7f7f7f\">97</span></a>\n",
       "</pre>\n"
      ],
      "text/plain": [
       "\u001b[2;36m                   \u001b[0m\u001b[2;36m \u001b[0m\u001b[1;38;2;0;105;255mINFO    \u001b[0m 127.0.0.1 - - \u001b[1m[\u001b[0m\u001b[1;36m27\u001b[0m/Dec/\u001b[1;36m2024\u001b[0m 10:56:42\u001b[1m]\u001b[0m \u001b[38;2;0;135;0m\"\u001b[0m\u001b[1;38;2;215;175;0mPOST\u001b[0m\u001b[38;2;0;135;0m /make HTTP/1.1\"\u001b[0m \u001b[1;36m200\u001b[0m -       \u001b]8;id=388784;file://c:\\Users\\CCNets-team\\anaconda3\\envs\\client-test\\lib\\site-packages\\werkzeug\\_internal.py\u001b\\\u001b[2m_internal.py\u001b[0m\u001b]8;;\u001b\\\u001b[2m:\u001b[0m\u001b]8;id=31283;file://c:\\Users\\CCNets-team\\anaconda3\\envs\\client-test\\lib\\site-packages\\werkzeug\\_internal.py#97\u001b\\\u001b[2m97\u001b[0m\u001b]8;;\u001b\\\n"
      ]
     },
     "metadata": {},
     "output_type": "display_data"
    },
    {
     "data": {
      "text/html": [
       "<pre style=\"white-space:pre;overflow-x:auto;line-height:normal;font-family:Menlo,'DejaVu Sans Mono',consolas,'Courier New',monospace\"><span style=\"color: #7fbfbf; text-decoration-color: #7fbfbf\">                    </span><span style=\"color: #0069ff; text-decoration-color: #0069ff; font-weight: bold\">INFO    </span> 127.0.0.1 - - <span style=\"font-weight: bold\">[</span><span style=\"color: #008080; text-decoration-color: #008080; font-weight: bold\">27</span>/Dec/<span style=\"color: #008080; text-decoration-color: #008080; font-weight: bold\">2024</span> 10:56:42<span style=\"font-weight: bold\">]</span> <span style=\"color: #008700; text-decoration-color: #008700\">\"</span><span style=\"color: #d7af00; text-decoration-color: #d7af00; font-weight: bold\">GET</span><span style=\"color: #008700; text-decoration-color: #008700\"> </span>                             <a href=\"file://c:\\Users\\CCNets-team\\anaconda3\\envs\\client-test\\lib\\site-packages\\werkzeug\\_internal.py\" target=\"_blank\"><span style=\"color: #7f7f7f; text-decoration-color: #7f7f7f\">_internal.py</span></a><span style=\"color: #7f7f7f; text-decoration-color: #7f7f7f\">:</span><a href=\"file://c:\\Users\\CCNets-team\\anaconda3\\envs\\client-test\\lib\\site-packages\\werkzeug\\_internal.py#97\" target=\"_blank\"><span style=\"color: #7f7f7f; text-decoration-color: #7f7f7f\">97</span></a>\n",
       "<span style=\"color: #7fbfbf; text-decoration-color: #7fbfbf\">                    </span>         <span style=\"color: #008700; text-decoration-color: #008700\">/observation_space?</span><span style=\"color: #008700; text-decoration-color: #008700\">env_key</span><span style=\"color: #008700; text-decoration-color: #008700\">=</span><span style=\"color: #008700; text-decoration-color: #008700\">44dc4994</span><span style=\"color: #008700; text-decoration-color: #008700\">-09aa-431d-9e85-fa9d78022412 </span>       <span style=\"color: #7f7f7f; text-decoration-color: #7f7f7f\">               </span>\n",
       "<span style=\"color: #7fbfbf; text-decoration-color: #7fbfbf\">                    </span>         <span style=\"color: #008700; text-decoration-color: #008700\">HTTP/1.1\"</span> <span style=\"color: #008080; text-decoration-color: #008080; font-weight: bold\">200</span> -                                                        <span style=\"color: #7f7f7f; text-decoration-color: #7f7f7f\">               </span>\n",
       "</pre>\n"
      ],
      "text/plain": [
       "\u001b[2;36m                   \u001b[0m\u001b[2;36m \u001b[0m\u001b[1;38;2;0;105;255mINFO    \u001b[0m 127.0.0.1 - - \u001b[1m[\u001b[0m\u001b[1;36m27\u001b[0m/Dec/\u001b[1;36m2024\u001b[0m 10:56:42\u001b[1m]\u001b[0m \u001b[38;2;0;135;0m\"\u001b[0m\u001b[1;38;2;215;175;0mGET\u001b[0m\u001b[38;2;0;135;0m \u001b[0m                             \u001b]8;id=902937;file://c:\\Users\\CCNets-team\\anaconda3\\envs\\client-test\\lib\\site-packages\\werkzeug\\_internal.py\u001b\\\u001b[2m_internal.py\u001b[0m\u001b]8;;\u001b\\\u001b[2m:\u001b[0m\u001b]8;id=274647;file://c:\\Users\\CCNets-team\\anaconda3\\envs\\client-test\\lib\\site-packages\\werkzeug\\_internal.py#97\u001b\\\u001b[2m97\u001b[0m\u001b]8;;\u001b\\\n",
       "\u001b[2;36m                    \u001b[0m         \u001b[38;2;0;135;0m/observation_space?\u001b[0m\u001b[38;2;0;135;0menv_key\u001b[0m\u001b[38;2;0;135;0m=\u001b[0m\u001b[38;2;0;135;0m44dc4994\u001b[0m\u001b[38;2;0;135;0m-09aa-431d-9e85-fa9d78022412 \u001b[0m       \u001b[2m               \u001b[0m\n",
       "\u001b[2;36m                    \u001b[0m         \u001b[38;2;0;135;0mHTTP/1.1\"\u001b[0m \u001b[1;36m200\u001b[0m -                                                        \u001b[2m               \u001b[0m\n"
      ]
     },
     "metadata": {},
     "output_type": "display_data"
    },
    {
     "data": {
      "text/html": [
       "<pre style=\"white-space:pre;overflow-x:auto;line-height:normal;font-family:Menlo,'DejaVu Sans Mono',consolas,'Courier New',monospace\"><span style=\"color: #7fbfbf; text-decoration-color: #7fbfbf\">                    </span><span style=\"color: #0069ff; text-decoration-color: #0069ff; font-weight: bold\">INFO    </span> 127.0.0.1 - - <span style=\"font-weight: bold\">[</span><span style=\"color: #008080; text-decoration-color: #008080; font-weight: bold\">27</span>/Dec/<span style=\"color: #008080; text-decoration-color: #008080; font-weight: bold\">2024</span> 10:56:42<span style=\"font-weight: bold\">]</span> <span style=\"color: #008700; text-decoration-color: #008700\">\"</span><span style=\"color: #d7af00; text-decoration-color: #d7af00; font-weight: bold\">GET</span><span style=\"color: #008700; text-decoration-color: #008700\"> </span>                             <a href=\"file://c:\\Users\\CCNets-team\\anaconda3\\envs\\client-test\\lib\\site-packages\\werkzeug\\_internal.py\" target=\"_blank\"><span style=\"color: #7f7f7f; text-decoration-color: #7f7f7f\">_internal.py</span></a><span style=\"color: #7f7f7f; text-decoration-color: #7f7f7f\">:</span><a href=\"file://c:\\Users\\CCNets-team\\anaconda3\\envs\\client-test\\lib\\site-packages\\werkzeug\\_internal.py#97\" target=\"_blank\"><span style=\"color: #7f7f7f; text-decoration-color: #7f7f7f\">97</span></a>\n",
       "<span style=\"color: #7fbfbf; text-decoration-color: #7fbfbf\">                    </span>         <span style=\"color: #008700; text-decoration-color: #008700\">/action_space?</span><span style=\"color: #008700; text-decoration-color: #008700\">env_key</span><span style=\"color: #008700; text-decoration-color: #008700\">=</span><span style=\"color: #008700; text-decoration-color: #008700\">44dc4994</span><span style=\"color: #008700; text-decoration-color: #008700\">-09aa-431d-9e85-fa9d78022412 HTTP/1.1\"</span>   <span style=\"color: #7f7f7f; text-decoration-color: #7f7f7f\">               </span>\n",
       "<span style=\"color: #7fbfbf; text-decoration-color: #7fbfbf\">                    </span>         <span style=\"color: #008080; text-decoration-color: #008080; font-weight: bold\">200</span> -                                                                  <span style=\"color: #7f7f7f; text-decoration-color: #7f7f7f\">               </span>\n",
       "</pre>\n"
      ],
      "text/plain": [
       "\u001b[2;36m                   \u001b[0m\u001b[2;36m \u001b[0m\u001b[1;38;2;0;105;255mINFO    \u001b[0m 127.0.0.1 - - \u001b[1m[\u001b[0m\u001b[1;36m27\u001b[0m/Dec/\u001b[1;36m2024\u001b[0m 10:56:42\u001b[1m]\u001b[0m \u001b[38;2;0;135;0m\"\u001b[0m\u001b[1;38;2;215;175;0mGET\u001b[0m\u001b[38;2;0;135;0m \u001b[0m                             \u001b]8;id=646829;file://c:\\Users\\CCNets-team\\anaconda3\\envs\\client-test\\lib\\site-packages\\werkzeug\\_internal.py\u001b\\\u001b[2m_internal.py\u001b[0m\u001b]8;;\u001b\\\u001b[2m:\u001b[0m\u001b]8;id=247608;file://c:\\Users\\CCNets-team\\anaconda3\\envs\\client-test\\lib\\site-packages\\werkzeug\\_internal.py#97\u001b\\\u001b[2m97\u001b[0m\u001b]8;;\u001b\\\n",
       "\u001b[2;36m                    \u001b[0m         \u001b[38;2;0;135;0m/action_space?\u001b[0m\u001b[38;2;0;135;0menv_key\u001b[0m\u001b[38;2;0;135;0m=\u001b[0m\u001b[38;2;0;135;0m44dc4994\u001b[0m\u001b[38;2;0;135;0m-09aa-431d-9e85-fa9d78022412 HTTP/1.1\"\u001b[0m   \u001b[2m               \u001b[0m\n",
       "\u001b[2;36m                    \u001b[0m         \u001b[1;36m200\u001b[0m -                                                                  \u001b[2m               \u001b[0m\n"
      ]
     },
     "metadata": {},
     "output_type": "display_data"
    },
    {
     "data": {
      "text/html": [
       "<pre style=\"white-space:pre;overflow-x:auto;line-height:normal;font-family:Menlo,'DejaVu Sans Mono',consolas,'Courier New',monospace\"><span style=\"color: #7fbfbf; text-decoration-color: #7fbfbf\">                    </span><span style=\"color: #0069ff; text-decoration-color: #0069ff; font-weight: bold\">INFO    </span> Environment with key <span style=\"color: #ffff00; text-decoration-color: #ffff00\">44dc4994-09aa-431d-9e85-fa9d78022412</span> closed.      <a href=\"file://c:\\Users\\CCNets-team\\Projects\\one-click-robotics-client-API\\remote\\env_host.py\" target=\"_blank\"><span style=\"color: #7f7f7f; text-decoration-color: #7f7f7f\">env_host.py</span></a><span style=\"color: #7f7f7f; text-decoration-color: #7f7f7f\">:</span><a href=\"file://c:\\Users\\CCNets-team\\Projects\\one-click-robotics-client-API\\remote\\env_host.py#135\" target=\"_blank\"><span style=\"color: #7f7f7f; text-decoration-color: #7f7f7f\">135</span></a>\n",
       "</pre>\n"
      ],
      "text/plain": [
       "\u001b[2;36m                   \u001b[0m\u001b[2;36m \u001b[0m\u001b[1;38;2;0;105;255mINFO    \u001b[0m Environment with key \u001b[93m44dc4994-09aa-431d-9e85-fa9d78022412\u001b[0m closed.      \u001b]8;id=186352;file://c:\\Users\\CCNets-team\\Projects\\one-click-robotics-client-API\\remote\\env_host.py\u001b\\\u001b[2menv_host.py\u001b[0m\u001b]8;;\u001b\\\u001b[2m:\u001b[0m\u001b]8;id=910232;file://c:\\Users\\CCNets-team\\Projects\\one-click-robotics-client-API\\remote\\env_host.py#135\u001b\\\u001b[2m135\u001b[0m\u001b]8;;\u001b\\\n"
      ]
     },
     "metadata": {},
     "output_type": "display_data"
    },
    {
     "data": {
      "text/html": [
       "<pre style=\"white-space:pre;overflow-x:auto;line-height:normal;font-family:Menlo,'DejaVu Sans Mono',consolas,'Courier New',monospace\"><span style=\"color: #7fbfbf; text-decoration-color: #7fbfbf\">                    </span><span style=\"color: #0069ff; text-decoration-color: #0069ff; font-weight: bold\">INFO    </span> 127.0.0.1 - - <span style=\"font-weight: bold\">[</span><span style=\"color: #008080; text-decoration-color: #008080; font-weight: bold\">27</span>/Dec/<span style=\"color: #008080; text-decoration-color: #008080; font-weight: bold\">2024</span> 10:56:42<span style=\"font-weight: bold\">]</span> <span style=\"color: #008700; text-decoration-color: #008700\">\"</span><span style=\"color: #d7af00; text-decoration-color: #d7af00; font-weight: bold\">POST</span><span style=\"color: #008700; text-decoration-color: #008700\"> /close HTTP/1.1\"</span> <span style=\"color: #008080; text-decoration-color: #008080; font-weight: bold\">200</span> -      <a href=\"file://c:\\Users\\CCNets-team\\anaconda3\\envs\\client-test\\lib\\site-packages\\werkzeug\\_internal.py\" target=\"_blank\"><span style=\"color: #7f7f7f; text-decoration-color: #7f7f7f\">_internal.py</span></a><span style=\"color: #7f7f7f; text-decoration-color: #7f7f7f\">:</span><a href=\"file://c:\\Users\\CCNets-team\\anaconda3\\envs\\client-test\\lib\\site-packages\\werkzeug\\_internal.py#97\" target=\"_blank\"><span style=\"color: #7f7f7f; text-decoration-color: #7f7f7f\">97</span></a>\n",
       "</pre>\n"
      ],
      "text/plain": [
       "\u001b[2;36m                   \u001b[0m\u001b[2;36m \u001b[0m\u001b[1;38;2;0;105;255mINFO    \u001b[0m 127.0.0.1 - - \u001b[1m[\u001b[0m\u001b[1;36m27\u001b[0m/Dec/\u001b[1;36m2024\u001b[0m 10:56:42\u001b[1m]\u001b[0m \u001b[38;2;0;135;0m\"\u001b[0m\u001b[1;38;2;215;175;0mPOST\u001b[0m\u001b[38;2;0;135;0m /close HTTP/1.1\"\u001b[0m \u001b[1;36m200\u001b[0m -      \u001b]8;id=713443;file://c:\\Users\\CCNets-team\\anaconda3\\envs\\client-test\\lib\\site-packages\\werkzeug\\_internal.py\u001b\\\u001b[2m_internal.py\u001b[0m\u001b]8;;\u001b\\\u001b[2m:\u001b[0m\u001b]8;id=200149;file://c:\\Users\\CCNets-team\\anaconda3\\envs\\client-test\\lib\\site-packages\\werkzeug\\_internal.py#97\u001b\\\u001b[2m97\u001b[0m\u001b]8;;\u001b\\\n"
      ]
     },
     "metadata": {},
     "output_type": "display_data"
    }
   ],
   "source": [
    "from envs.unity_env import UnityEnv        # Interface for Unity environments\n",
    "from envs.gym_env import GymEnv            # Interface for OpenAI Gym environments\n",
    "from remote.gpt_trainer import AgentGPTTrainer\n",
    "from remote.one_click_params import OneClickHyperparameters, SageMakerConfig\n",
    "\n",
    "remote_trainer = AgentGPTTrainer(env_simulator=UnityEnv)\n",
    "# estimator = remote_trainer.train(sage_config=SageMakerConfig(), one_click_params=OneClickHyperparameters())"
   ]
  },
  {
   "cell_type": "code",
   "execution_count": null,
   "metadata": {},
   "outputs": [],
   "source": [
    "from remote.agent_gpt import AgentGPT           # Client-side environment runner\n",
    "\n",
    "agent_gpt = AgentGPT(model_path = \"s3://your-bucket/models/your-model\")\n",
    "_ = agent_gpt.run(sage_config = SageMakerConfig()) # predictor is not needed for this example\n",
    "\n",
    "agent_gpt.set_input_seq_len(seq_len = 3)\n",
    "agent_gpt.set_model_performance(performance = 0.5)\n",
    "\n",
    "# agent_gpt.register(agent_ids = [\"junho\", \"bob\", \"joe\"])\n",
    "action1 = agent_gpt.select_action(agent_ids = [\"junho\", \"bob\", '1'], observations = [[1, 2, 3], [4, 5, 6], [7, 8, 9]])\n",
    "action2 = agent_gpt.select_action(agent_ids = [\"junho\", \"bob\", '1'], observations = [[1, 2, 3], [4, 5, 6], [7, 8, 9]])\n",
    "action3 = agent_gpt.select_action(agent_ids = [\"junho\", \"bob\", '1'], observations = [[1, 2, 3], [4, 5, 6], [7, 8, 9]])\n",
    "agent_gpt.delete_agents(agent_ids = [\"bob\"])\n",
    "\n",
    "num_left_agents = agent_gpt.delete_agents([\"junho\", \"bob\", '1'])\n",
    "\n",
    "agent_gpt.status()\n"
   ]
  },
  {
   "cell_type": "markdown",
   "metadata": {},
   "source": [
    "######################################################\n",
    "# Step 2: Run the EnvRunway to execute the trained model locally\n",
    "runner = RemoteRunner.run(\n",
    "    env_simulator=GymEnv,\n",
    "    model_path=output_path   # Path to the trained model\n",
    ")\n",
    "action = runner.select_action(agent_id=\"agent1\", observation=obs)\n",
    "action = runner.select_action(agent_id=[\"agent1\", \"agent2\"], observation=[obs1, obs2])"
   ]
  },
  {
   "cell_type": "code",
   "execution_count": null,
   "metadata": {},
   "outputs": [],
   "source": [
    "import os\n",
    "\n",
    "def print_directory_tree(root, exclude_dirs):\n",
    "    for dirpath, dirnames, filenames in os.walk(root):\n",
    "        # Filter out the directories to exclude\n",
    "        dirnames[:] = [d for d in dirnames if d not in exclude_dirs]\n",
    "        level = dirpath.replace(root, '').count(os.sep)\n",
    "        indent = ' ' * 4 * level\n",
    "        print(f'{indent}{os.path.basename(dirpath)}/')\n",
    "        subindent = ' ' * 4 * (level + 1)\n",
    "        for f in filenames:\n",
    "            print(f'{subindent}{f}')\n",
    "\n",
    "# Set the root directory and the directories to exclude\n",
    "root_directory = '.'\n",
    "exclude_directories = {'.git', '__pycache__'}\n",
    "\n",
    "print_directory_tree(root_directory, exclude_directories)"
   ]
  }
 ],
 "metadata": {
  "kernelspec": {
   "display_name": "client-test",
   "language": "python",
   "name": "python3"
  },
  "language_info": {
   "codemirror_mode": {
    "name": "ipython",
    "version": 3
   },
   "file_extension": ".py",
   "mimetype": "text/x-python",
   "name": "python",
   "nbconvert_exporter": "python",
   "pygments_lexer": "ipython3",
   "version": "3.9.20"
  }
 },
 "nbformat": 4,
 "nbformat_minor": 2
}
